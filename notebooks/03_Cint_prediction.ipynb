{
 "cells": [
  {
   "cell_type": "markdown",
   "metadata": {},
   "source": [
    "#### Generate predictions for a new list of chemicals for Instrinic Clearance¶"
   ]
  },
  {
   "cell_type": "markdown",
   "metadata": {},
   "source": [
    "- Step 1: Identify substances of interest and their SMILES codes - Use KNIME to convert SMILES into a V2000 sdf file\n",
    "- See KNIME workflow presented in models directory (httk/models) for example knwf file generated in KNIME 3.7.2\n",
    "- Step 2: Use sdf file to generate Pubchem and ToxPrint Fingerprints using KNIME and the Chemotyper\n",
    "- Step 3: Use sdf file to generate OPERA descriptors (v2.6)\n",
    "\n"
   ]
  },
  {
   "cell_type": "code",
   "execution_count": 1,
   "metadata": {},
   "outputs": [],
   "source": [
    "import numpy as np\n",
    "import pandas as pd\n",
    "import matplotlib.pyplot as plt\n",
    "import seaborn as sns\n",
    "%matplotlib inline\n",
    "import os\n",
    "import glob"
   ]
  },
  {
   "cell_type": "code",
   "execution_count": 2,
   "metadata": {},
   "outputs": [],
   "source": [
    "from sklearn import model_selection\n",
    "from sklearn import preprocessing\n",
    "from sklearn.metrics import r2_score\n",
    "import pickle"
   ]
  },
  {
   "cell_type": "code",
   "execution_count": 3,
   "metadata": {},
   "outputs": [],
   "source": [
    "def normalizeDescriptors(X):\n",
    "    scaler = preprocessing.StandardScaler().fit(X)\n",
    "    transformed = scaler.transform(X)\n",
    "    x_norm = pd.DataFrame(transformed, index = X.index) \n",
    "    x_norm.columns = X.columns\n",
    "    return(x_norm)"
   ]
  },
  {
   "cell_type": "code",
   "execution_count": 4,
   "metadata": {},
   "outputs": [],
   "source": [
    "raw_dir = '/home/grace/Documents/python/httk/data/raw/'\n",
    "processed_dir = '/home/grace/Documents/python/httk/data/processed/'\n",
    "interim_dir = '/home/grace/Documents/python/httk/data/interim/'\n",
    "figures_dir = '/home/grace/Documents/python/httk/reports/figures/'\n",
    "external_dir = '/home/grace/Documents/python/httk/data/external/'\n",
    "models_dir = '/home/grace/Documents/python/httk/models/'"
   ]
  },
  {
   "cell_type": "markdown",
   "metadata": {},
   "source": [
    "Load descriptors needed for intrinsic clearance (regression model)"
   ]
  },
  {
   "cell_type": "markdown",
   "metadata": {},
   "source": [
    "Looks like per Table S6 this model only needs Pubchem and ToxPrint fingerprints. "
   ]
  },
  {
   "cell_type": "code",
   "execution_count": 19,
   "metadata": {},
   "outputs": [],
   "source": [
    "pubchem = pd.read_csv(processed_dir+'Fub_Pubchem.csv')"
   ]
  },
  {
   "cell_type": "code",
   "execution_count": 20,
   "metadata": {},
   "outputs": [
    {
     "data": {
      "text/html": [
       "<div>\n",
       "<style scoped>\n",
       "    .dataframe tbody tr th:only-of-type {\n",
       "        vertical-align: middle;\n",
       "    }\n",
       "\n",
       "    .dataframe tbody tr th {\n",
       "        vertical-align: top;\n",
       "    }\n",
       "\n",
       "    .dataframe thead th {\n",
       "        text-align: right;\n",
       "    }\n",
       "</style>\n",
       "<table border=\"1\" class=\"dataframe\">\n",
       "  <thead>\n",
       "    <tr style=\"text-align: right;\">\n",
       "      <th></th>\n",
       "      <th>CASRN</th>\n",
       "      <th>bitvector0</th>\n",
       "      <th>bitvector1</th>\n",
       "      <th>bitvector2</th>\n",
       "      <th>bitvector3</th>\n",
       "      <th>bitvector4</th>\n",
       "      <th>bitvector5</th>\n",
       "      <th>bitvector6</th>\n",
       "      <th>bitvector7</th>\n",
       "      <th>bitvector8</th>\n",
       "      <th>...</th>\n",
       "      <th>bitvector871</th>\n",
       "      <th>bitvector872</th>\n",
       "      <th>bitvector873</th>\n",
       "      <th>bitvector874</th>\n",
       "      <th>bitvector875</th>\n",
       "      <th>bitvector876</th>\n",
       "      <th>bitvector877</th>\n",
       "      <th>bitvector878</th>\n",
       "      <th>bitvector879</th>\n",
       "      <th>bitvector880</th>\n",
       "    </tr>\n",
       "  </thead>\n",
       "  <tbody>\n",
       "    <tr>\n",
       "      <th>0</th>\n",
       "      <td>94-74-6</td>\n",
       "      <td>1</td>\n",
       "      <td>1</td>\n",
       "      <td>0</td>\n",
       "      <td>0</td>\n",
       "      <td>0</td>\n",
       "      <td>0</td>\n",
       "      <td>0</td>\n",
       "      <td>0</td>\n",
       "      <td>0</td>\n",
       "      <td>...</td>\n",
       "      <td>0</td>\n",
       "      <td>0</td>\n",
       "      <td>0</td>\n",
       "      <td>0</td>\n",
       "      <td>0</td>\n",
       "      <td>0</td>\n",
       "      <td>0</td>\n",
       "      <td>0</td>\n",
       "      <td>0</td>\n",
       "      <td>0</td>\n",
       "    </tr>\n",
       "    <tr>\n",
       "      <th>1</th>\n",
       "      <td>148477-71-8</td>\n",
       "      <td>1</td>\n",
       "      <td>1</td>\n",
       "      <td>1</td>\n",
       "      <td>0</td>\n",
       "      <td>0</td>\n",
       "      <td>0</td>\n",
       "      <td>0</td>\n",
       "      <td>0</td>\n",
       "      <td>0</td>\n",
       "      <td>...</td>\n",
       "      <td>0</td>\n",
       "      <td>0</td>\n",
       "      <td>0</td>\n",
       "      <td>0</td>\n",
       "      <td>0</td>\n",
       "      <td>0</td>\n",
       "      <td>0</td>\n",
       "      <td>0</td>\n",
       "      <td>0</td>\n",
       "      <td>0</td>\n",
       "    </tr>\n",
       "    <tr>\n",
       "      <th>2</th>\n",
       "      <td>56-29-1</td>\n",
       "      <td>1</td>\n",
       "      <td>1</td>\n",
       "      <td>1</td>\n",
       "      <td>0</td>\n",
       "      <td>0</td>\n",
       "      <td>0</td>\n",
       "      <td>0</td>\n",
       "      <td>0</td>\n",
       "      <td>0</td>\n",
       "      <td>...</td>\n",
       "      <td>0</td>\n",
       "      <td>0</td>\n",
       "      <td>0</td>\n",
       "      <td>0</td>\n",
       "      <td>0</td>\n",
       "      <td>0</td>\n",
       "      <td>0</td>\n",
       "      <td>0</td>\n",
       "      <td>0</td>\n",
       "      <td>0</td>\n",
       "    </tr>\n",
       "    <tr>\n",
       "      <th>3</th>\n",
       "      <td>153233-91-1</td>\n",
       "      <td>1</td>\n",
       "      <td>1</td>\n",
       "      <td>1</td>\n",
       "      <td>0</td>\n",
       "      <td>0</td>\n",
       "      <td>0</td>\n",
       "      <td>0</td>\n",
       "      <td>0</td>\n",
       "      <td>0</td>\n",
       "      <td>...</td>\n",
       "      <td>0</td>\n",
       "      <td>0</td>\n",
       "      <td>0</td>\n",
       "      <td>0</td>\n",
       "      <td>0</td>\n",
       "      <td>0</td>\n",
       "      <td>0</td>\n",
       "      <td>0</td>\n",
       "      <td>0</td>\n",
       "      <td>0</td>\n",
       "    </tr>\n",
       "    <tr>\n",
       "      <th>4</th>\n",
       "      <td>96182-53-5</td>\n",
       "      <td>1</td>\n",
       "      <td>1</td>\n",
       "      <td>1</td>\n",
       "      <td>0</td>\n",
       "      <td>0</td>\n",
       "      <td>0</td>\n",
       "      <td>0</td>\n",
       "      <td>0</td>\n",
       "      <td>0</td>\n",
       "      <td>...</td>\n",
       "      <td>0</td>\n",
       "      <td>0</td>\n",
       "      <td>0</td>\n",
       "      <td>0</td>\n",
       "      <td>0</td>\n",
       "      <td>0</td>\n",
       "      <td>0</td>\n",
       "      <td>0</td>\n",
       "      <td>0</td>\n",
       "      <td>0</td>\n",
       "    </tr>\n",
       "  </tbody>\n",
       "</table>\n",
       "<p>5 rows × 882 columns</p>\n",
       "</div>"
      ],
      "text/plain": [
       "         CASRN  bitvector0  bitvector1  bitvector2  bitvector3  bitvector4  \\\n",
       "0      94-74-6           1           1           0           0           0   \n",
       "1  148477-71-8           1           1           1           0           0   \n",
       "2      56-29-1           1           1           1           0           0   \n",
       "3  153233-91-1           1           1           1           0           0   \n",
       "4   96182-53-5           1           1           1           0           0   \n",
       "\n",
       "   bitvector5  bitvector6  bitvector7  bitvector8  ...  bitvector871  \\\n",
       "0           0           0           0           0  ...             0   \n",
       "1           0           0           0           0  ...             0   \n",
       "2           0           0           0           0  ...             0   \n",
       "3           0           0           0           0  ...             0   \n",
       "4           0           0           0           0  ...             0   \n",
       "\n",
       "   bitvector872  bitvector873  bitvector874  bitvector875  bitvector876  \\\n",
       "0             0             0             0             0             0   \n",
       "1             0             0             0             0             0   \n",
       "2             0             0             0             0             0   \n",
       "3             0             0             0             0             0   \n",
       "4             0             0             0             0             0   \n",
       "\n",
       "   bitvector877  bitvector878  bitvector879  bitvector880  \n",
       "0             0             0             0             0  \n",
       "1             0             0             0             0  \n",
       "2             0             0             0             0  \n",
       "3             0             0             0             0  \n",
       "4             0             0             0             0  \n",
       "\n",
       "[5 rows x 882 columns]"
      ]
     },
     "execution_count": 20,
     "metadata": {},
     "output_type": "execute_result"
    }
   ],
   "source": [
    "pubchem.head()"
   ]
  },
  {
   "cell_type": "code",
   "execution_count": 6,
   "metadata": {},
   "outputs": [],
   "source": [
    "txps = pd.read_excel(processed_dir+'ToxPrints.xlsx')\n"
   ]
  },
  {
   "cell_type": "markdown",
   "metadata": {},
   "source": [
    "None of the supplementary files appear to correspond to the Clint final features as described in mmc1 Table S6. Copied the features from Table S6. V frustrating!"
   ]
  },
  {
   "cell_type": "code",
   "execution_count": 8,
   "metadata": {},
   "outputs": [],
   "source": [
    "pc = ['bitvector2',\n",
    " 'bitvector12',\n",
    " 'bitvector14',\n",
    " 'bitvector15',\n",
    " 'bitvector19',\n",
    " 'bitvector20',\n",
    " 'bitvector33',\n",
    " 'bitvector37',\n",
    " 'bitvector143',\n",
    " 'bitvector179',\n",
    " 'bitvector180',\n",
    " 'bitvector185',\n",
    " 'bitvector186',\n",
    " 'bitvector256',\n",
    " 'bitvector257',\n",
    " 'bitvector286',\n",
    " 'bitvector299',\n",
    " 'bitvector308',\n",
    " 'bitvector333',\n",
    " 'bitvector340',\n",
    " 'bitvector341',\n",
    " 'bitvector345',\n",
    " 'bitvector346',\n",
    " 'bitvector356',\n",
    " 'bitvector370',\n",
    " 'bitvector374',\n",
    " 'bitvector375',\n",
    " 'bitvector376',\n",
    " 'bitvector377',\n",
    " 'bitvector380',\n",
    " 'bitvector381',\n",
    " 'bitvector390',\n",
    " 'bitvector391',\n",
    " 'bitvector392',\n",
    " 'bitvector405',\n",
    " 'bitvector420',\n",
    " 'bitvector439',\n",
    " 'bitvector451',\n",
    " 'bitvector476',\n",
    " 'bitvector516',\n",
    " 'bitvector553',\n",
    " 'bitvector592',\n",
    " 'bitvector597',\n",
    " 'bitvector599',\n",
    " 'bitvector613',\n",
    " 'bitvector614',\n",
    " 'bitvector643',\n",
    " 'bitvector645',\n",
    " 'bitvector656',\n",
    " 'bitvector696',\n",
    " 'bitvector697',\n",
    " 'bitvector698',\n",
    " 'bitvector712']"
   ]
  },
  {
   "cell_type": "code",
   "execution_count": 9,
   "metadata": {},
   "outputs": [],
   "source": [
    "tp = ['bond:CN_amine_aliphatic_generic',\n",
    " 'bond:CX_halide_aromatic-X_generic',\n",
    " 'chain:alkaneLinear_ethyl_C2(H_gt_1)',\n",
    " 'chain:alkaneLinear_ethyl_C2_(connect_noZ_CN=4)',\n",
    " 'chain:aromaticAlkane_Ph-C1_acyclic_connect_noDblBd']"
   ]
  },
  {
   "cell_type": "code",
   "execution_count": 21,
   "metadata": {},
   "outputs": [],
   "source": [
    "pubchem.set_index('CASRN', inplace = True)"
   ]
  },
  {
   "cell_type": "code",
   "execution_count": 24,
   "metadata": {},
   "outputs": [],
   "source": [
    "pubchem_ = pubchem[pc]"
   ]
  },
  {
   "cell_type": "code",
   "execution_count": 26,
   "metadata": {},
   "outputs": [],
   "source": [
    "txps.drop(['DTXSID', \t'PREFERRED_NAME'], axis =1, inplace = True)\n",
    "txps.set_index('INPUT', inplace = True)"
   ]
  },
  {
   "cell_type": "code",
   "execution_count": 29,
   "metadata": {},
   "outputs": [],
   "source": [
    "txps_ = txps[tp]"
   ]
  },
  {
   "cell_type": "code",
   "execution_count": 31,
   "metadata": {},
   "outputs": [],
   "source": [
    "ids = list(set(txps_.index & pubchem_.index))"
   ]
  },
  {
   "cell_type": "code",
   "execution_count": 32,
   "metadata": {},
   "outputs": [],
   "source": [
    "txps_ = txps_.loc[ids]\n",
    "pubchem_ = pubchem_.loc[ids]"
   ]
  },
  {
   "cell_type": "code",
   "execution_count": 35,
   "metadata": {},
   "outputs": [],
   "source": [
    "descriptors = pd.concat([pubchem_, txps_], axis = 1)"
   ]
  },
  {
   "cell_type": "code",
   "execution_count": 39,
   "metadata": {},
   "outputs": [
    {
     "data": {
      "text/plain": [
       "(1118, 58)"
      ]
     },
     "execution_count": 39,
     "metadata": {},
     "output_type": "execute_result"
    }
   ],
   "source": [
    "descriptors.shape"
   ]
  },
  {
   "cell_type": "markdown",
   "metadata": {},
   "source": [
    "Load saved model"
   ]
  },
  {
   "cell_type": "code",
   "execution_count": 36,
   "metadata": {},
   "outputs": [
    {
     "name": "stderr",
     "output_type": "stream",
     "text": [
      "/home/grace/anaconda3/envs/my-rdkit-env/lib/python3.6/site-packages/sklearn/utils/deprecation.py:143: FutureWarning: The sklearn.ensemble.forest module is  deprecated in version 0.22 and will be removed in version 0.24. The corresponding classes / functions should instead be imported from sklearn.ensemble. Anything that cannot be imported from sklearn.ensemble is now part of the private API.\n",
      "  warnings.warn(message, FutureWarning)\n",
      "/home/grace/anaconda3/envs/my-rdkit-env/lib/python3.6/site-packages/sklearn/utils/deprecation.py:143: FutureWarning: The sklearn.tree.tree module is  deprecated in version 0.22 and will be removed in version 0.24. The corresponding classes / functions should instead be imported from sklearn.tree. Anything that cannot be imported from sklearn.tree is now part of the private API.\n",
      "  warnings.warn(message, FutureWarning)\n",
      "/home/grace/anaconda3/envs/my-rdkit-env/lib/python3.6/site-packages/sklearn/base.py:334: UserWarning: Trying to unpickle estimator DecisionTreeRegressor from version 0.20.1 when using version 0.23.2. This might lead to breaking code or invalid results. Use at your own risk.\n",
      "  UserWarning)\n",
      "/home/grace/anaconda3/envs/my-rdkit-env/lib/python3.6/site-packages/sklearn/base.py:334: UserWarning: Trying to unpickle estimator RandomForestRegressor from version 0.20.1 when using version 0.23.2. This might lead to breaking code or invalid results. Use at your own risk.\n",
      "  UserWarning)\n"
     ]
    }
   ],
   "source": [
    "clint_rf = pickle.load(open(models_dir+'clintReg_rf.sav', 'rb'))"
   ]
  },
  {
   "cell_type": "code",
   "execution_count": 38,
   "metadata": {},
   "outputs": [
    {
     "data": {
      "text/plain": [
       "58"
      ]
     },
     "execution_count": 38,
     "metadata": {},
     "output_type": "execute_result"
    }
   ],
   "source": [
    "len(clint_rf.feature_importances_)"
   ]
  },
  {
   "cell_type": "markdown",
   "metadata": {},
   "source": [
    "Looks like there is a match in terms of number of descriptors expected..."
   ]
  },
  {
   "cell_type": "code",
   "execution_count": 40,
   "metadata": {},
   "outputs": [],
   "source": [
    "predicted_clint_rf = pd.DataFrame(clint_rf.predict(descriptors), descriptors.index )"
   ]
  },
  {
   "cell_type": "code",
   "execution_count": 41,
   "metadata": {},
   "outputs": [],
   "source": [
    "predicted_clint_rf.columns = ['pred_clint_rf']"
   ]
  },
  {
   "cell_type": "code",
   "execution_count": 42,
   "metadata": {},
   "outputs": [
    {
     "data": {
      "text/html": [
       "<div>\n",
       "<style scoped>\n",
       "    .dataframe tbody tr th:only-of-type {\n",
       "        vertical-align: middle;\n",
       "    }\n",
       "\n",
       "    .dataframe tbody tr th {\n",
       "        vertical-align: top;\n",
       "    }\n",
       "\n",
       "    .dataframe thead th {\n",
       "        text-align: right;\n",
       "    }\n",
       "</style>\n",
       "<table border=\"1\" class=\"dataframe\">\n",
       "  <thead>\n",
       "    <tr style=\"text-align: right;\">\n",
       "      <th></th>\n",
       "      <th>pred_clint_rf</th>\n",
       "    </tr>\n",
       "  </thead>\n",
       "  <tbody>\n",
       "    <tr>\n",
       "      <th>5152-30-7</th>\n",
       "      <td>1.035721</td>\n",
       "    </tr>\n",
       "    <tr>\n",
       "      <th>120-71-8</th>\n",
       "      <td>1.217503</td>\n",
       "    </tr>\n",
       "    <tr>\n",
       "      <th>77-28-1</th>\n",
       "      <td>0.536407</td>\n",
       "    </tr>\n",
       "    <tr>\n",
       "      <th>79538-32-2</th>\n",
       "      <td>1.267599</td>\n",
       "    </tr>\n",
       "    <tr>\n",
       "      <th>57-94-3</th>\n",
       "      <td>0.943510</td>\n",
       "    </tr>\n",
       "    <tr>\n",
       "      <th>...</th>\n",
       "      <td>...</td>\n",
       "    </tr>\n",
       "    <tr>\n",
       "      <th>123441-03-2</th>\n",
       "      <td>0.897008</td>\n",
       "    </tr>\n",
       "    <tr>\n",
       "      <th>42399-41-7</th>\n",
       "      <td>0.720585</td>\n",
       "    </tr>\n",
       "    <tr>\n",
       "      <th>95153-31-4</th>\n",
       "      <td>0.697933</td>\n",
       "    </tr>\n",
       "    <tr>\n",
       "      <th>484-17-3</th>\n",
       "      <td>0.878016</td>\n",
       "    </tr>\n",
       "    <tr>\n",
       "      <th>115103-54-3</th>\n",
       "      <td>0.879630</td>\n",
       "    </tr>\n",
       "  </tbody>\n",
       "</table>\n",
       "<p>1118 rows × 1 columns</p>\n",
       "</div>"
      ],
      "text/plain": [
       "             pred_clint_rf\n",
       "5152-30-7         1.035721\n",
       "120-71-8          1.217503\n",
       "77-28-1           0.536407\n",
       "79538-32-2        1.267599\n",
       "57-94-3           0.943510\n",
       "...                    ...\n",
       "123441-03-2       0.897008\n",
       "42399-41-7        0.720585\n",
       "95153-31-4        0.697933\n",
       "484-17-3          0.878016\n",
       "115103-54-3       0.879630\n",
       "\n",
       "[1118 rows x 1 columns]"
      ]
     },
     "execution_count": 42,
     "metadata": {},
     "output_type": "execute_result"
    }
   ],
   "source": [
    "predicted_clint_rf"
   ]
  },
  {
   "cell_type": "markdown",
   "metadata": {},
   "source": [
    "Setting up descriptor sets for the other Clint model which is a SVC"
   ]
  },
  {
   "cell_type": "code",
   "execution_count": 43,
   "metadata": {},
   "outputs": [],
   "source": [
    "pc2 = ['bitvector2', 'bitvector12', 'bitvector14', 'bitvector15', 'bitvector19', 'bitvector20', 'bitvector33', 'bitvector37', 'bitvector143', 'bitvector179', 'bitvector180', 'bitvector185', 'bitvector186', 'bitvector256', 'bitvector257', 'bitvector286', 'bitvector299', 'bitvector308', 'bitvector333', 'bitvector340', 'bitvector341', 'bitvector345', 'bitvector346', 'bitvector355', 'bitvector356', 'bitvector366', 'bitvector374', 'bitvector375', 'bitvector376', 'bitvector377', 'bitvector380', 'bitvector381', 'bitvector390', 'bitvector391', 'bitvector392', 'bitvector405', 'bitvector420', 'bitvector439', 'bitvector451', 'bitvector476', 'bitvector493', 'bitvector516', 'bitvector539', 'bitvector592', 'bitvector614', 'bitvector637', 'bitvector643', 'bitvector645', 'bitvector656', 'bitvector688', 'bitvector696', 'bitvector697', 'bitvector698', 'bitvector712']"
   ]
  },
  {
   "cell_type": "code",
   "execution_count": 44,
   "metadata": {},
   "outputs": [],
   "source": [
    "tp2 = ['chain:alkaneLinear_ethyl_C2(H_gt_1)', 'chain:alkaneLinear_ethyl_C2_(connect_noZ_CN=4)', 'chain:aromaticAlkane_Ph-C1_acyclic_connect_noDblBd']"
   ]
  },
  {
   "cell_type": "code",
   "execution_count": 45,
   "metadata": {},
   "outputs": [],
   "source": [
    "txps_2 = txps[tp2]"
   ]
  },
  {
   "cell_type": "code",
   "execution_count": 46,
   "metadata": {},
   "outputs": [],
   "source": [
    "pubchem_2 = pubchem[pc2]"
   ]
  },
  {
   "cell_type": "code",
   "execution_count": 47,
   "metadata": {},
   "outputs": [],
   "source": [
    "pubchem_2 = pubchem_2.loc[ids]\n",
    "txps_2 = txps_2.loc[ids]"
   ]
  },
  {
   "cell_type": "code",
   "execution_count": 51,
   "metadata": {},
   "outputs": [],
   "source": [
    "df_opera = pd.read_csv(interim_dir+'normalised_opera.csv')"
   ]
  },
  {
   "cell_type": "code",
   "execution_count": 53,
   "metadata": {},
   "outputs": [],
   "source": [
    "df_opera.set_index('CASRN', inplace = True)"
   ]
  },
  {
   "cell_type": "code",
   "execution_count": 54,
   "metadata": {},
   "outputs": [],
   "source": [
    "opera_ = df_opera.loc[ids]"
   ]
  },
  {
   "cell_type": "code",
   "execution_count": 55,
   "metadata": {},
   "outputs": [],
   "source": [
    "descriptors_2 = pd.concat([pubchem_2, txps_2, opera_], axis = 1).dropna(axis=0, how='any')"
   ]
  },
  {
   "cell_type": "code",
   "execution_count": 59,
   "metadata": {},
   "outputs": [],
   "source": [
    "descriptors_2.to_csv(interim_dir+'descriptors_2.csv')"
   ]
  },
  {
   "cell_type": "code",
   "execution_count": 56,
   "metadata": {},
   "outputs": [
    {
     "name": "stderr",
     "output_type": "stream",
     "text": [
      "/home/grace/anaconda3/envs/my-rdkit-env/lib/python3.6/site-packages/sklearn/base.py:334: UserWarning: Trying to unpickle estimator SVC from version 0.20.1 when using version 0.23.2. This might lead to breaking code or invalid results. Use at your own risk.\n",
      "  UserWarning)\n"
     ]
    }
   ],
   "source": [
    "clint_svc = pickle.load(open(models_dir+'clintClas_svc.sav', 'rb'))"
   ]
  },
  {
   "cell_type": "code",
   "execution_count": 57,
   "metadata": {},
   "outputs": [
    {
     "ename": "AttributeError",
     "evalue": "'SVC' object has no attribute 'break_ties'",
     "output_type": "error",
     "traceback": [
      "\u001b[0;31m---------------------------------------------------------------------------\u001b[0m",
      "\u001b[0;31mAttributeError\u001b[0m                            Traceback (most recent call last)",
      "\u001b[0;32m<ipython-input-57-f39f241c6d5a>\u001b[0m in \u001b[0;36m<module>\u001b[0;34m\u001b[0m\n\u001b[0;32m----> 1\u001b[0;31m \u001b[0mpredicted_clint_svc\u001b[0m \u001b[0;34m=\u001b[0m \u001b[0mpd\u001b[0m\u001b[0;34m.\u001b[0m\u001b[0mDataFrame\u001b[0m\u001b[0;34m(\u001b[0m\u001b[0mclint_svc\u001b[0m\u001b[0;34m.\u001b[0m\u001b[0mpredict\u001b[0m\u001b[0;34m(\u001b[0m\u001b[0mdescriptors_2\u001b[0m\u001b[0;34m)\u001b[0m\u001b[0;34m,\u001b[0m \u001b[0mdescriptors_2\u001b[0m\u001b[0;34m.\u001b[0m\u001b[0mindex\u001b[0m \u001b[0;34m)\u001b[0m\u001b[0;34m\u001b[0m\u001b[0;34m\u001b[0m\u001b[0m\n\u001b[0m",
      "\u001b[0;32m~/anaconda3/envs/my-rdkit-env/lib/python3.6/site-packages/sklearn/svm/_base.py\u001b[0m in \u001b[0;36mpredict\u001b[0;34m(self, X)\u001b[0m\n\u001b[1;32m    604\u001b[0m         \"\"\"\n\u001b[1;32m    605\u001b[0m         \u001b[0mcheck_is_fitted\u001b[0m\u001b[0;34m(\u001b[0m\u001b[0mself\u001b[0m\u001b[0;34m)\u001b[0m\u001b[0;34m\u001b[0m\u001b[0;34m\u001b[0m\u001b[0m\n\u001b[0;32m--> 606\u001b[0;31m         \u001b[0;32mif\u001b[0m \u001b[0mself\u001b[0m\u001b[0;34m.\u001b[0m\u001b[0mbreak_ties\u001b[0m \u001b[0;32mand\u001b[0m \u001b[0mself\u001b[0m\u001b[0;34m.\u001b[0m\u001b[0mdecision_function_shape\u001b[0m \u001b[0;34m==\u001b[0m \u001b[0;34m'ovo'\u001b[0m\u001b[0;34m:\u001b[0m\u001b[0;34m\u001b[0m\u001b[0;34m\u001b[0m\u001b[0m\n\u001b[0m\u001b[1;32m    607\u001b[0m             raise ValueError(\"break_ties must be False when \"\n\u001b[1;32m    608\u001b[0m                              \"decision_function_shape is 'ovo'\")\n",
      "\u001b[0;31mAttributeError\u001b[0m: 'SVC' object has no attribute 'break_ties'"
     ]
    }
   ],
   "source": [
    "predicted_clint_svc = pd.DataFrame(clint_svc.predict(descriptors_2), descriptors_2.index )"
   ]
  },
  {
   "cell_type": "markdown",
   "metadata": {},
   "source": [
    "Error with running SVC models due to version control of Sklearn"
   ]
  },
  {
   "cell_type": "markdown",
   "metadata": {},
   "source": [
    "Note - have created a conda environment - if version scikit-learn=0.20.1 is part of the environment - than these models load and run correctly!"
   ]
  },
  {
   "cell_type": "code",
   "execution_count": null,
   "metadata": {},
   "outputs": [],
   "source": []
  }
 ],
 "metadata": {
  "kernelspec": {
   "display_name": "chem",
   "language": "python",
   "name": "chem"
  },
  "language_info": {
   "codemirror_mode": {
    "name": "ipython",
    "version": 3
   },
   "file_extension": ".py",
   "mimetype": "text/x-python",
   "name": "python",
   "nbconvert_exporter": "python",
   "pygments_lexer": "ipython3",
   "version": "3.6.10"
  }
 },
 "nbformat": 4,
 "nbformat_minor": 4
}
