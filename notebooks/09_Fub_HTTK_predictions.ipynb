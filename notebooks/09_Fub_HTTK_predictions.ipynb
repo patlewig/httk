{
 "cells": [
  {
   "cell_type": "markdown",
   "metadata": {},
   "source": [
    "#### Making Fub predictions for the HTTK library"
   ]
  },
  {
   "cell_type": "code",
   "execution_count": 1,
   "metadata": {},
   "outputs": [],
   "source": [
    "import numpy as np\n",
    "import pandas as pd\n",
    "import matplotlib.pyplot as plt\n",
    "import seaborn as sns\n",
    "%matplotlib inline\n",
    "import openpyxl\n",
    "import os\n",
    "import sys"
   ]
  },
  {
   "cell_type": "code",
   "execution_count": 2,
   "metadata": {},
   "outputs": [],
   "source": [
    "TOP = os.getcwd().replace('notebooks', '')"
   ]
  },
  {
   "cell_type": "code",
   "execution_count": 4,
   "metadata": {},
   "outputs": [],
   "source": [
    "raw_dir = TOP + 'data/raw/'\n",
    "interim_dir = TOP + 'data/interim/'\n",
    "external_dir = TOP + 'data/external/'"
   ]
  },
  {
   "cell_type": "code",
   "execution_count": 3,
   "metadata": {},
   "outputs": [],
   "source": [
    "models_dir = TOP + 'models/'\n",
    "reports_dir = TOP + 'reports/'"
   ]
  },
  {
   "cell_type": "code",
   "execution_count": 5,
   "metadata": {},
   "outputs": [],
   "source": [
    "from sklearn import model_selection\n",
    "from sklearn import preprocessing\n",
    "from sklearn.metrics import r2_score\n",
    "import pickle\n",
    "import glob"
   ]
  },
  {
   "cell_type": "code",
   "execution_count": 6,
   "metadata": {},
   "outputs": [],
   "source": [
    "def normalizeDescriptors(X):\n",
    "    scaler = preprocessing.StandardScaler().fit(X)\n",
    "    transformed = scaler.transform(X)\n",
    "    x_norm = pd.DataFrame(transformed, index = X.index) \n",
    "    x_norm.columns = X.columns\n",
    "    return(x_norm)\n"
   ]
  },
  {
   "cell_type": "code",
   "execution_count": 7,
   "metadata": {},
   "outputs": [],
   "source": [
    "pubchem = pd.read_csv(interim_dir+'HTTK-Pubchem.csv')"
   ]
  },
  {
   "cell_type": "code",
   "execution_count": 8,
   "metadata": {},
   "outputs": [
    {
     "data": {
      "text/plain": [
       "(8792, 882)"
      ]
     },
     "execution_count": 8,
     "metadata": {},
     "output_type": "execute_result"
    }
   ],
   "source": [
    "pubchem.shape"
   ]
  },
  {
   "cell_type": "code",
   "execution_count": 9,
   "metadata": {},
   "outputs": [
    {
     "data": {
      "text/html": [
       "<div>\n",
       "<style scoped>\n",
       "    .dataframe tbody tr th:only-of-type {\n",
       "        vertical-align: middle;\n",
       "    }\n",
       "\n",
       "    .dataframe tbody tr th {\n",
       "        vertical-align: top;\n",
       "    }\n",
       "\n",
       "    .dataframe thead th {\n",
       "        text-align: right;\n",
       "    }\n",
       "</style>\n",
       "<table border=\"1\" class=\"dataframe\">\n",
       "  <thead>\n",
       "    <tr style=\"text-align: right;\">\n",
       "      <th></th>\n",
       "      <th>CAS</th>\n",
       "      <th>bitvector0</th>\n",
       "      <th>bitvector1</th>\n",
       "      <th>bitvector2</th>\n",
       "      <th>bitvector3</th>\n",
       "      <th>bitvector4</th>\n",
       "      <th>bitvector5</th>\n",
       "      <th>bitvector6</th>\n",
       "      <th>bitvector7</th>\n",
       "      <th>bitvector8</th>\n",
       "      <th>...</th>\n",
       "      <th>bitvector871</th>\n",
       "      <th>bitvector872</th>\n",
       "      <th>bitvector873</th>\n",
       "      <th>bitvector874</th>\n",
       "      <th>bitvector875</th>\n",
       "      <th>bitvector876</th>\n",
       "      <th>bitvector877</th>\n",
       "      <th>bitvector878</th>\n",
       "      <th>bitvector879</th>\n",
       "      <th>bitvector880</th>\n",
       "    </tr>\n",
       "  </thead>\n",
       "  <tbody>\n",
       "    <tr>\n",
       "      <td>0</td>\n",
       "      <td>2971-36-0</td>\n",
       "      <td>1</td>\n",
       "      <td>1</td>\n",
       "      <td>0</td>\n",
       "      <td>0</td>\n",
       "      <td>0</td>\n",
       "      <td>0</td>\n",
       "      <td>0</td>\n",
       "      <td>0</td>\n",
       "      <td>0</td>\n",
       "      <td>...</td>\n",
       "      <td>0</td>\n",
       "      <td>0</td>\n",
       "      <td>0</td>\n",
       "      <td>0</td>\n",
       "      <td>0</td>\n",
       "      <td>0</td>\n",
       "      <td>0</td>\n",
       "      <td>0</td>\n",
       "      <td>0</td>\n",
       "      <td>0</td>\n",
       "    </tr>\n",
       "    <tr>\n",
       "      <td>1</td>\n",
       "      <td>94-75-7</td>\n",
       "      <td>1</td>\n",
       "      <td>0</td>\n",
       "      <td>0</td>\n",
       "      <td>0</td>\n",
       "      <td>0</td>\n",
       "      <td>0</td>\n",
       "      <td>0</td>\n",
       "      <td>0</td>\n",
       "      <td>0</td>\n",
       "      <td>...</td>\n",
       "      <td>0</td>\n",
       "      <td>0</td>\n",
       "      <td>0</td>\n",
       "      <td>0</td>\n",
       "      <td>0</td>\n",
       "      <td>0</td>\n",
       "      <td>0</td>\n",
       "      <td>0</td>\n",
       "      <td>0</td>\n",
       "      <td>0</td>\n",
       "    </tr>\n",
       "    <tr>\n",
       "      <td>2</td>\n",
       "      <td>94-82-6</td>\n",
       "      <td>1</td>\n",
       "      <td>1</td>\n",
       "      <td>0</td>\n",
       "      <td>0</td>\n",
       "      <td>0</td>\n",
       "      <td>0</td>\n",
       "      <td>0</td>\n",
       "      <td>0</td>\n",
       "      <td>0</td>\n",
       "      <td>...</td>\n",
       "      <td>0</td>\n",
       "      <td>0</td>\n",
       "      <td>0</td>\n",
       "      <td>0</td>\n",
       "      <td>0</td>\n",
       "      <td>0</td>\n",
       "      <td>0</td>\n",
       "      <td>0</td>\n",
       "      <td>0</td>\n",
       "      <td>0</td>\n",
       "    </tr>\n",
       "    <tr>\n",
       "      <td>3</td>\n",
       "      <td>90-43-7</td>\n",
       "      <td>1</td>\n",
       "      <td>1</td>\n",
       "      <td>0</td>\n",
       "      <td>0</td>\n",
       "      <td>0</td>\n",
       "      <td>0</td>\n",
       "      <td>0</td>\n",
       "      <td>0</td>\n",
       "      <td>0</td>\n",
       "      <td>...</td>\n",
       "      <td>0</td>\n",
       "      <td>0</td>\n",
       "      <td>0</td>\n",
       "      <td>0</td>\n",
       "      <td>0</td>\n",
       "      <td>0</td>\n",
       "      <td>0</td>\n",
       "      <td>0</td>\n",
       "      <td>0</td>\n",
       "      <td>0</td>\n",
       "    </tr>\n",
       "    <tr>\n",
       "      <td>4</td>\n",
       "      <td>1007-28-9</td>\n",
       "      <td>1</td>\n",
       "      <td>1</td>\n",
       "      <td>0</td>\n",
       "      <td>0</td>\n",
       "      <td>0</td>\n",
       "      <td>0</td>\n",
       "      <td>0</td>\n",
       "      <td>0</td>\n",
       "      <td>0</td>\n",
       "      <td>...</td>\n",
       "      <td>0</td>\n",
       "      <td>0</td>\n",
       "      <td>0</td>\n",
       "      <td>0</td>\n",
       "      <td>0</td>\n",
       "      <td>0</td>\n",
       "      <td>0</td>\n",
       "      <td>0</td>\n",
       "      <td>0</td>\n",
       "      <td>0</td>\n",
       "    </tr>\n",
       "  </tbody>\n",
       "</table>\n",
       "<p>5 rows × 882 columns</p>\n",
       "</div>"
      ],
      "text/plain": [
       "         CAS  bitvector0  bitvector1  bitvector2  bitvector3  bitvector4  \\\n",
       "0  2971-36-0           1           1           0           0           0   \n",
       "1    94-75-7           1           0           0           0           0   \n",
       "2    94-82-6           1           1           0           0           0   \n",
       "3    90-43-7           1           1           0           0           0   \n",
       "4  1007-28-9           1           1           0           0           0   \n",
       "\n",
       "   bitvector5  bitvector6  bitvector7  bitvector8  ...  bitvector871  \\\n",
       "0           0           0           0           0  ...             0   \n",
       "1           0           0           0           0  ...             0   \n",
       "2           0           0           0           0  ...             0   \n",
       "3           0           0           0           0  ...             0   \n",
       "4           0           0           0           0  ...             0   \n",
       "\n",
       "   bitvector872  bitvector873  bitvector874  bitvector875  bitvector876  \\\n",
       "0             0             0             0             0             0   \n",
       "1             0             0             0             0             0   \n",
       "2             0             0             0             0             0   \n",
       "3             0             0             0             0             0   \n",
       "4             0             0             0             0             0   \n",
       "\n",
       "   bitvector877  bitvector878  bitvector879  bitvector880  \n",
       "0             0             0             0             0  \n",
       "1             0             0             0             0  \n",
       "2             0             0             0             0  \n",
       "3             0             0             0             0  \n",
       "4             0             0             0             0  \n",
       "\n",
       "[5 rows x 882 columns]"
      ]
     },
     "execution_count": 9,
     "metadata": {},
     "output_type": "execute_result"
    }
   ],
   "source": [
    "pubchem.head()"
   ]
  },
  {
   "cell_type": "code",
   "execution_count": 10,
   "metadata": {},
   "outputs": [],
   "source": [
    "pubchem.set_index('CAS', inplace = True)"
   ]
  },
  {
   "cell_type": "code",
   "execution_count": 11,
   "metadata": {},
   "outputs": [],
   "source": [
    "txps = pd.read_csv(interim_dir+'HTTK-TxPs.txt', sep = ';')"
   ]
  },
  {
   "cell_type": "code",
   "execution_count": 13,
   "metadata": {},
   "outputs": [],
   "source": [
    "txps.drop(['M_COMPOUND_HISTORY_[STRING]', 'M_CORINA_SYMPHONY_ERRORS_[STRING]'], axis =1, inplace = True)"
   ]
  },
  {
   "cell_type": "code",
   "execution_count": 15,
   "metadata": {},
   "outputs": [],
   "source": [
    "txps.set_index('M_NAME', inplace = True)"
   ]
  },
  {
   "cell_type": "code",
   "execution_count": 17,
   "metadata": {},
   "outputs": [
    {
     "data": {
      "text/html": [
       "<div>\n",
       "<style scoped>\n",
       "    .dataframe tbody tr th:only-of-type {\n",
       "        vertical-align: middle;\n",
       "    }\n",
       "\n",
       "    .dataframe tbody tr th {\n",
       "        vertical-align: top;\n",
       "    }\n",
       "\n",
       "    .dataframe thead th {\n",
       "        text-align: right;\n",
       "    }\n",
       "</style>\n",
       "<table border=\"1\" class=\"dataframe\">\n",
       "  <thead>\n",
       "    <tr style=\"text-align: right;\">\n",
       "      <th></th>\n",
       "      <th>LogP_pred</th>\n",
       "      <th>pKa_a_pred</th>\n",
       "      <th>pKa_b_pred</th>\n",
       "    </tr>\n",
       "    <tr>\n",
       "      <th>MoleculeID</th>\n",
       "      <th></th>\n",
       "      <th></th>\n",
       "      <th></th>\n",
       "    </tr>\n",
       "  </thead>\n",
       "  <tbody>\n",
       "    <tr>\n",
       "      <td>2971-36-0</td>\n",
       "      <td>4.621513</td>\n",
       "      <td>8.332265</td>\n",
       "      <td>NaN</td>\n",
       "    </tr>\n",
       "    <tr>\n",
       "      <td>94-75-7</td>\n",
       "      <td>2.772283</td>\n",
       "      <td>2.419436</td>\n",
       "      <td>NaN</td>\n",
       "    </tr>\n",
       "    <tr>\n",
       "      <td>94-82-6</td>\n",
       "      <td>3.381940</td>\n",
       "      <td>3.109999</td>\n",
       "      <td>NaN</td>\n",
       "    </tr>\n",
       "    <tr>\n",
       "      <td>90-43-7</td>\n",
       "      <td>3.137555</td>\n",
       "      <td>9.349336</td>\n",
       "      <td>NaN</td>\n",
       "    </tr>\n",
       "    <tr>\n",
       "      <td>1007-28-9</td>\n",
       "      <td>1.263031</td>\n",
       "      <td>NaN</td>\n",
       "      <td>3.433594</td>\n",
       "    </tr>\n",
       "    <tr>\n",
       "      <td>...</td>\n",
       "      <td>...</td>\n",
       "      <td>...</td>\n",
       "      <td>...</td>\n",
       "    </tr>\n",
       "    <tr>\n",
       "      <td>75-01-4</td>\n",
       "      <td>1.005203</td>\n",
       "      <td>NaN</td>\n",
       "      <td>NaN</td>\n",
       "    </tr>\n",
       "    <tr>\n",
       "      <td>108341-18-0</td>\n",
       "      <td>-1.289582</td>\n",
       "      <td>NaN</td>\n",
       "      <td>7.989363</td>\n",
       "    </tr>\n",
       "    <tr>\n",
       "      <td>115104-28-4</td>\n",
       "      <td>5.990367</td>\n",
       "      <td>3.763057</td>\n",
       "      <td>5.549423</td>\n",
       "    </tr>\n",
       "    <tr>\n",
       "      <td>1437319-51-1</td>\n",
       "      <td>5.721995</td>\n",
       "      <td>NaN</td>\n",
       "      <td>5.834184</td>\n",
       "    </tr>\n",
       "    <tr>\n",
       "      <td>387816-82-2</td>\n",
       "      <td>5.134389</td>\n",
       "      <td>NaN</td>\n",
       "      <td>5.548350</td>\n",
       "    </tr>\n",
       "  </tbody>\n",
       "</table>\n",
       "<p>8792 rows × 3 columns</p>\n",
       "</div>"
      ],
      "text/plain": [
       "              LogP_pred  pKa_a_pred  pKa_b_pred\n",
       "MoleculeID                                     \n",
       "2971-36-0      4.621513    8.332265         NaN\n",
       "94-75-7        2.772283    2.419436         NaN\n",
       "94-82-6        3.381940    3.109999         NaN\n",
       "90-43-7        3.137555    9.349336         NaN\n",
       "1007-28-9      1.263031         NaN    3.433594\n",
       "...                 ...         ...         ...\n",
       "75-01-4        1.005203         NaN         NaN\n",
       "108341-18-0   -1.289582         NaN    7.989363\n",
       "115104-28-4    5.990367    3.763057    5.549423\n",
       "1437319-51-1   5.721995         NaN    5.834184\n",
       "387816-82-2    5.134389         NaN    5.548350\n",
       "\n",
       "[8792 rows x 3 columns]"
      ]
     },
     "execution_count": 17,
     "metadata": {},
     "output_type": "execute_result"
    }
   ],
   "source": [
    "df_opera = pd.read_csv(interim_dir+'HTTK-OPERA.csv', index_col='MoleculeID')[['LogP_pred','pKa_a_pred', 'pKa_b_pred']]\n",
    "df_opera"
   ]
  },
  {
   "cell_type": "code",
   "execution_count": 18,
   "metadata": {},
   "outputs": [],
   "source": [
    "df_opera['pKa_pred']=df_opera[['pKa_a_pred','pKa_b_pred']].min(axis=1)\n"
   ]
  },
  {
   "cell_type": "code",
   "execution_count": 19,
   "metadata": {},
   "outputs": [],
   "source": [
    "df_opera = df_opera[~df_opera.index.duplicated(keep='first')]"
   ]
  },
  {
   "cell_type": "code",
   "execution_count": 20,
   "metadata": {},
   "outputs": [],
   "source": [
    "df_opera = df_opera.dropna(subset=['pKa_pred','LogP_pred']) #add1\n",
    "df_opera.fillna(0, inplace=True) "
   ]
  },
  {
   "cell_type": "code",
   "execution_count": 21,
   "metadata": {},
   "outputs": [],
   "source": [
    "opera_scaler = pickle.load(open(models_dir+'opera_scaler_v2.sav', 'rb'))"
   ]
  },
  {
   "cell_type": "code",
   "execution_count": 22,
   "metadata": {},
   "outputs": [],
   "source": [
    "# Normalize opera properties based on transformation scaler vector from the base models\n",
    "opera_scaled = opera_scaler.transform(df_opera)\n",
    "opera = pd.DataFrame(opera_scaled, index = df_opera.index) \n",
    "opera.columns = df_opera.columns\n",
    "opera = opera[['pKa_pred','LogP_pred']]\n"
   ]
  },
  {
   "cell_type": "code",
   "execution_count": 23,
   "metadata": {},
   "outputs": [],
   "source": [
    "desc = pd.read_csv(external_dir+'Human.Funbound.plasma_Features_v2.csv')"
   ]
  },
  {
   "cell_type": "code",
   "execution_count": 24,
   "metadata": {},
   "outputs": [],
   "source": [
    "ids = list(set(pubchem.index & txps.index))\n",
    "txps = txps.loc[ids]\n",
    "pubchem = pubchem.loc[ids]\n",
    "fingerprints = pd.concat([pubchem,txps ], axis =1)"
   ]
  },
  {
   "cell_type": "code",
   "execution_count": 25,
   "metadata": {},
   "outputs": [],
   "source": [
    "retain = [str(val.replace(\"'\", \"\").replace(\" \", \"\")) for val in desc.loc[0,'Fingerprints'].split(',')]\n",
    "retain[0] = retain[0].replace(\"[\", \"\")\n",
    "retain[len(retain)-1] = retain[len(retain)-1].replace(\"c]\",'c')\n",
    "fingerprints_fub = fingerprints.loc[:,retain]"
   ]
  },
  {
   "cell_type": "code",
   "execution_count": 26,
   "metadata": {},
   "outputs": [
    {
     "name": "stderr",
     "output_type": "stream",
     "text": [
      "/home/grace/anaconda3/envs/httk/lib/python3.7/site-packages/ipykernel_launcher.py:1: FutureWarning: \n",
      "Passing list-likes to .loc or [] with any missing label will raise\n",
      "KeyError in the future, you can use .reindex() as an alternative.\n",
      "\n",
      "See the documentation here:\n",
      "https://pandas.pydata.org/pandas-docs/stable/user_guide/indexing.html#deprecate-loc-reindex-listlike\n",
      "  \"\"\"Entry point for launching an IPython kernel.\n"
     ]
    }
   ],
   "source": [
    "opera_ = opera.loc[ids]"
   ]
  },
  {
   "cell_type": "code",
   "execution_count": 27,
   "metadata": {},
   "outputs": [],
   "source": [
    "descriptors = pd.concat([fingerprints_fub, opera_], axis=1).dropna(axis=0, how='any')"
   ]
  },
  {
   "cell_type": "code",
   "execution_count": 28,
   "metadata": {},
   "outputs": [],
   "source": [
    "fub_rf = pickle.load(open(models_dir+'fub_rf_v2.sav', 'rb'))\n",
    "fub_svr = pickle.load(open(models_dir+'fub_svr_v2.sav', 'rb'))"
   ]
  },
  {
   "cell_type": "code",
   "execution_count": 29,
   "metadata": {},
   "outputs": [
    {
     "data": {
      "text/html": [
       "<div>\n",
       "<style scoped>\n",
       "    .dataframe tbody tr th:only-of-type {\n",
       "        vertical-align: middle;\n",
       "    }\n",
       "\n",
       "    .dataframe tbody tr th {\n",
       "        vertical-align: top;\n",
       "    }\n",
       "\n",
       "    .dataframe thead th {\n",
       "        text-align: right;\n",
       "    }\n",
       "</style>\n",
       "<table border=\"1\" class=\"dataframe\">\n",
       "  <thead>\n",
       "    <tr style=\"text-align: right;\">\n",
       "      <th></th>\n",
       "      <th>pred_Fub_rf</th>\n",
       "      <th>pred_Fub_svr</th>\n",
       "      <th>Consensus (SVM,RF)</th>\n",
       "    </tr>\n",
       "    <tr>\n",
       "      <th>MoleculeID</th>\n",
       "      <th></th>\n",
       "      <th></th>\n",
       "      <th></th>\n",
       "    </tr>\n",
       "  </thead>\n",
       "  <tbody>\n",
       "    <tr>\n",
       "      <td>68-11-1</td>\n",
       "      <td>0.757716</td>\n",
       "      <td>0.288604</td>\n",
       "      <td>0.523160</td>\n",
       "    </tr>\n",
       "    <tr>\n",
       "      <td>115-44-6</td>\n",
       "      <td>0.431735</td>\n",
       "      <td>0.515488</td>\n",
       "      <td>0.473611</td>\n",
       "    </tr>\n",
       "    <tr>\n",
       "      <td>693-98-1</td>\n",
       "      <td>0.876785</td>\n",
       "      <td>0.943760</td>\n",
       "      <td>0.910272</td>\n",
       "    </tr>\n",
       "    <tr>\n",
       "      <td>4784-40-1</td>\n",
       "      <td>0.100349</td>\n",
       "      <td>0.076452</td>\n",
       "      <td>0.088400</td>\n",
       "    </tr>\n",
       "    <tr>\n",
       "      <td>534-85-0</td>\n",
       "      <td>0.040982</td>\n",
       "      <td>0.118950</td>\n",
       "      <td>0.079966</td>\n",
       "    </tr>\n",
       "  </tbody>\n",
       "</table>\n",
       "</div>"
      ],
      "text/plain": [
       "            pred_Fub_rf  pred_Fub_svr  Consensus (SVM,RF)\n",
       "MoleculeID                                               \n",
       "68-11-1        0.757716      0.288604            0.523160\n",
       "115-44-6       0.431735      0.515488            0.473611\n",
       "693-98-1       0.876785      0.943760            0.910272\n",
       "4784-40-1      0.100349      0.076452            0.088400\n",
       "534-85-0       0.040982      0.118950            0.079966"
      ]
     },
     "execution_count": 29,
     "metadata": {},
     "output_type": "execute_result"
    }
   ],
   "source": [
    "predicted_Fub = pd.DataFrame(1/(1+10**fub_rf.predict(descriptors)), descriptors.index )\n",
    "predicted_Fub.columns = ['pred_Fub_rf']\n",
    "predicted_Fub_2 = pd.DataFrame(1/(1+10**fub_svr.predict(descriptors)), descriptors.index )\n",
    "predicted_Fub_2.columns = ['pred_Fub_svr']\n",
    "predicted_Fub_all = pd.concat([predicted_Fub, predicted_Fub_2], axis = 1)\n",
    "predicted_Fub_all['Consensus (SVM,RF)'] = predicted_Fub_all[['pred_Fub_svr', 'pred_Fub_rf']].mean(axis = 1)\n",
    "\n",
    "predicted_Fub_all.head()"
   ]
  },
  {
   "cell_type": "code",
   "execution_count": 34,
   "metadata": {},
   "outputs": [
    {
     "data": {
      "text/html": [
       "<div>\n",
       "<style scoped>\n",
       "    .dataframe tbody tr th:only-of-type {\n",
       "        vertical-align: middle;\n",
       "    }\n",
       "\n",
       "    .dataframe tbody tr th {\n",
       "        vertical-align: top;\n",
       "    }\n",
       "\n",
       "    .dataframe thead th {\n",
       "        text-align: right;\n",
       "    }\n",
       "</style>\n",
       "<table border=\"1\" class=\"dataframe\">\n",
       "  <thead>\n",
       "    <tr style=\"text-align: right;\">\n",
       "      <th></th>\n",
       "      <th>pred_Fub_rf</th>\n",
       "      <th>pred_Fub_svr</th>\n",
       "      <th>Consensus (SVM,RF)</th>\n",
       "    </tr>\n",
       "    <tr>\n",
       "      <th>MoleculeID</th>\n",
       "      <th></th>\n",
       "      <th></th>\n",
       "      <th></th>\n",
       "    </tr>\n",
       "  </thead>\n",
       "  <tbody>\n",
       "    <tr>\n",
       "      <td>100-02-7</td>\n",
       "      <td>0.131728</td>\n",
       "      <td>0.095463</td>\n",
       "      <td>0.113595</td>\n",
       "    </tr>\n",
       "    <tr>\n",
       "      <td>100-10-7</td>\n",
       "      <td>0.310349</td>\n",
       "      <td>0.610963</td>\n",
       "      <td>0.460656</td>\n",
       "    </tr>\n",
       "    <tr>\n",
       "      <td>100-15-2</td>\n",
       "      <td>0.386404</td>\n",
       "      <td>0.174030</td>\n",
       "      <td>0.280217</td>\n",
       "    </tr>\n",
       "    <tr>\n",
       "      <td>100-01-6</td>\n",
       "      <td>0.388741</td>\n",
       "      <td>0.177836</td>\n",
       "      <td>0.283289</td>\n",
       "    </tr>\n",
       "    <tr>\n",
       "      <td>100-19-6</td>\n",
       "      <td>0.335527</td>\n",
       "      <td>0.329827</td>\n",
       "      <td>0.332677</td>\n",
       "    </tr>\n",
       "  </tbody>\n",
       "</table>\n",
       "</div>"
      ],
      "text/plain": [
       "            pred_Fub_rf  pred_Fub_svr  Consensus (SVM,RF)\n",
       "MoleculeID                                               \n",
       "100-02-7       0.131728      0.095463            0.113595\n",
       "100-10-7       0.310349      0.610963            0.460656\n",
       "100-15-2       0.386404      0.174030            0.280217\n",
       "100-01-6       0.388741      0.177836            0.283289\n",
       "100-19-6       0.335527      0.329827            0.332677"
      ]
     },
     "execution_count": 34,
     "metadata": {},
     "output_type": "execute_result"
    }
   ],
   "source": [
    "predicted_Fub_all[predicted_Fub_all.index.isin(['100-01-6', '100-02-7', '100-10-7', '100-15-2', '100-19-6'])]"
   ]
  },
  {
   "cell_type": "code",
   "execution_count": 30,
   "metadata": {},
   "outputs": [],
   "source": [
    "check_df = pd.read_csv(reports_dir+'pradeep_FupClintPredictions_HTTK_chem_props.csv')"
   ]
  },
  {
   "cell_type": "code",
   "execution_count": 35,
   "metadata": {},
   "outputs": [
    {
     "data": {
      "text/html": [
       "<div>\n",
       "<style scoped>\n",
       "    .dataframe tbody tr th:only-of-type {\n",
       "        vertical-align: middle;\n",
       "    }\n",
       "\n",
       "    .dataframe tbody tr th {\n",
       "        vertical-align: top;\n",
       "    }\n",
       "\n",
       "    .dataframe thead th {\n",
       "        text-align: right;\n",
       "    }\n",
       "</style>\n",
       "<table border=\"1\" class=\"dataframe\">\n",
       "  <thead>\n",
       "    <tr style=\"text-align: right;\">\n",
       "      <th></th>\n",
       "      <th>CASRN</th>\n",
       "      <th>Fub (SVR Prediction)</th>\n",
       "      <th>Fub (RF Prediction)</th>\n",
       "      <th>Fub (Consensus Prediction)</th>\n",
       "      <th>Clint Prediction (Bin)</th>\n",
       "      <th>Clint Prediction</th>\n",
       "    </tr>\n",
       "  </thead>\n",
       "  <tbody>\n",
       "    <tr>\n",
       "      <td>0</td>\n",
       "      <td>100-01-6</td>\n",
       "      <td>0.177836</td>\n",
       "      <td>0.388741</td>\n",
       "      <td>0.283289</td>\n",
       "      <td>Medium</td>\n",
       "      <td>11.456444</td>\n",
       "    </tr>\n",
       "    <tr>\n",
       "      <td>1</td>\n",
       "      <td>100-02-7</td>\n",
       "      <td>0.095463</td>\n",
       "      <td>0.131728</td>\n",
       "      <td>0.113595</td>\n",
       "      <td>Medium</td>\n",
       "      <td>10.190809</td>\n",
       "    </tr>\n",
       "    <tr>\n",
       "      <td>2</td>\n",
       "      <td>100-10-7</td>\n",
       "      <td>0.610963</td>\n",
       "      <td>0.310349</td>\n",
       "      <td>0.460656</td>\n",
       "      <td>Medium</td>\n",
       "      <td>9.806200</td>\n",
       "    </tr>\n",
       "    <tr>\n",
       "      <td>3</td>\n",
       "      <td>100-15-2</td>\n",
       "      <td>0.174030</td>\n",
       "      <td>0.386404</td>\n",
       "      <td>0.280217</td>\n",
       "      <td>Medium</td>\n",
       "      <td>12.955616</td>\n",
       "    </tr>\n",
       "    <tr>\n",
       "      <td>4</td>\n",
       "      <td>100-19-6</td>\n",
       "      <td>0.329827</td>\n",
       "      <td>0.335527</td>\n",
       "      <td>0.332677</td>\n",
       "      <td>Medium</td>\n",
       "      <td>12.207164</td>\n",
       "    </tr>\n",
       "  </tbody>\n",
       "</table>\n",
       "</div>"
      ],
      "text/plain": [
       "      CASRN  Fub (SVR Prediction)  Fub (RF Prediction)  \\\n",
       "0  100-01-6              0.177836             0.388741   \n",
       "1  100-02-7              0.095463             0.131728   \n",
       "2  100-10-7              0.610963             0.310349   \n",
       "3  100-15-2              0.174030             0.386404   \n",
       "4  100-19-6              0.329827             0.335527   \n",
       "\n",
       "   Fub (Consensus Prediction) Clint Prediction (Bin)  Clint Prediction  \n",
       "0                    0.283289                 Medium         11.456444  \n",
       "1                    0.113595                 Medium         10.190809  \n",
       "2                    0.460656                 Medium          9.806200  \n",
       "3                    0.280217                 Medium         12.955616  \n",
       "4                    0.332677                 Medium         12.207164  "
      ]
     },
     "execution_count": 35,
     "metadata": {},
     "output_type": "execute_result"
    }
   ],
   "source": [
    "check_df.head()"
   ]
  },
  {
   "cell_type": "code",
   "execution_count": 36,
   "metadata": {},
   "outputs": [
    {
     "data": {
      "text/plain": [
       "(6569, 6)"
      ]
     },
     "execution_count": 36,
     "metadata": {},
     "output_type": "execute_result"
    }
   ],
   "source": [
    "check_df.shape"
   ]
  },
  {
   "cell_type": "code",
   "execution_count": 37,
   "metadata": {},
   "outputs": [],
   "source": [
    "# checks out OK for Fub predictions"
   ]
  }
 ],
 "metadata": {
  "kernelspec": {
   "display_name": "httk",
   "language": "python",
   "name": "httk"
  },
  "language_info": {
   "codemirror_mode": {
    "name": "ipython",
    "version": 3
   },
   "file_extension": ".py",
   "mimetype": "text/x-python",
   "name": "python",
   "nbconvert_exporter": "python",
   "pygments_lexer": "ipython3",
   "version": "3.7.8"
  }
 },
 "nbformat": 4,
 "nbformat_minor": 4
}
