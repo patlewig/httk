{
 "cells": [
  {
   "cell_type": "markdown",
   "metadata": {},
   "source": [
    "#### Making CLint regression predictions for the HTTK library"
   ]
  },
  {
   "cell_type": "code",
   "execution_count": 1,
   "metadata": {},
   "outputs": [],
   "source": [
    "import numpy as np\n",
    "import pandas as pd\n",
    "import matplotlib.pyplot as plt\n",
    "import seaborn as sns\n",
    "%matplotlib inline\n",
    "import openpyxl\n",
    "import os\n",
    "import sys"
   ]
  },
  {
   "cell_type": "code",
   "execution_count": 2,
   "metadata": {},
   "outputs": [],
   "source": [
    "TOP = os.getcwd().replace('notebooks', '')"
   ]
  },
  {
   "cell_type": "code",
   "execution_count": 3,
   "metadata": {},
   "outputs": [],
   "source": [
    "raw_dir = TOP + 'data/raw/'\n",
    "interim_dir = TOP + 'data/interim/'\n",
    "external_dir = TOP + 'data/external/'"
   ]
  },
  {
   "cell_type": "code",
   "execution_count": 4,
   "metadata": {},
   "outputs": [],
   "source": [
    "models_dir = TOP + 'models/'\n",
    "reports_dir = TOP + 'reports/'"
   ]
  },
  {
   "cell_type": "code",
   "execution_count": 5,
   "metadata": {},
   "outputs": [],
   "source": [
    "from sklearn import model_selection\n",
    "from sklearn import preprocessing\n",
    "from sklearn.metrics import r2_score\n",
    "import pickle\n",
    "import glob"
   ]
  },
  {
   "cell_type": "code",
   "execution_count": 6,
   "metadata": {},
   "outputs": [],
   "source": [
    "def normalizeDescriptors(X):\n",
    "    scaler = preprocessing.StandardScaler().fit(X)\n",
    "    transformed = scaler.transform(X)\n",
    "    x_norm = pd.DataFrame(transformed, index = X.index) \n",
    "    x_norm.columns = X.columns\n",
    "    return(x_norm)"
   ]
  },
  {
   "cell_type": "code",
   "execution_count": 7,
   "metadata": {},
   "outputs": [],
   "source": [
    "pubchem = pd.read_csv(interim_dir+'HTTK-Pubchem.csv')"
   ]
  },
  {
   "cell_type": "code",
   "execution_count": 8,
   "metadata": {},
   "outputs": [],
   "source": [
    "pubchem.set_index('CAS', inplace = True)"
   ]
  },
  {
   "cell_type": "code",
   "execution_count": 9,
   "metadata": {},
   "outputs": [],
   "source": [
    "txps = pd.read_csv(interim_dir+'HTTK-TxPs.txt', sep = ';')"
   ]
  },
  {
   "cell_type": "code",
   "execution_count": 10,
   "metadata": {},
   "outputs": [],
   "source": [
    "txps.drop(['M_COMPOUND_HISTORY_[STRING]', 'M_CORINA_SYMPHONY_ERRORS_[STRING]'], axis =1, inplace = True)"
   ]
  },
  {
   "cell_type": "code",
   "execution_count": 11,
   "metadata": {},
   "outputs": [],
   "source": [
    "txps.set_index('M_NAME', inplace = True)"
   ]
  },
  {
   "cell_type": "code",
   "execution_count": 12,
   "metadata": {},
   "outputs": [],
   "source": [
    "clint_features_reg = pd.read_csv(external_dir+'Clint_Features_Regression.csv')"
   ]
  },
  {
   "cell_type": "code",
   "execution_count": 13,
   "metadata": {},
   "outputs": [],
   "source": [
    "ids = list(set(pubchem.index & txps.index))\n",
    "txps = txps.loc[ids]\n",
    "pubchem = pubchem.loc[ids]\n",
    "fingerprints = pd.concat([pubchem,txps ], axis =1)"
   ]
  },
  {
   "cell_type": "code",
   "execution_count": 14,
   "metadata": {},
   "outputs": [],
   "source": [
    "retain = [str(val.replace(\"'\", \"\").replace(\" \", \"\")) for val in clint_features_reg.loc[0,'Fingerprints'].split(',')]\n",
    "retain[0] = retain[0].replace(\"[\", \"\")\n",
    "retain[len(retain)-1] = retain[len(retain)-1].replace(\"]\",'')"
   ]
  },
  {
   "cell_type": "code",
   "execution_count": 15,
   "metadata": {},
   "outputs": [],
   "source": [
    "fingerprints_clintReg = fingerprints.loc[:,retain]"
   ]
  },
  {
   "cell_type": "code",
   "execution_count": 16,
   "metadata": {},
   "outputs": [],
   "source": [
    "clint_rf = pickle.load(open(models_dir+'clintReg_rf.sav', 'rb'))"
   ]
  },
  {
   "cell_type": "code",
   "execution_count": 17,
   "metadata": {},
   "outputs": [],
   "source": [
    "predicted_clint_rf = pd.DataFrame((10**clint_rf.predict(fingerprints_clintReg)), fingerprints_clintReg.index )"
   ]
  },
  {
   "cell_type": "code",
   "execution_count": 18,
   "metadata": {},
   "outputs": [],
   "source": [
    "predicted_clint_rf.columns = ['pred_clint_rf']"
   ]
  },
  {
   "cell_type": "code",
   "execution_count": 19,
   "metadata": {},
   "outputs": [
    {
     "data": {
      "text/html": [
       "<div>\n",
       "<style scoped>\n",
       "    .dataframe tbody tr th:only-of-type {\n",
       "        vertical-align: middle;\n",
       "    }\n",
       "\n",
       "    .dataframe tbody tr th {\n",
       "        vertical-align: top;\n",
       "    }\n",
       "\n",
       "    .dataframe thead th {\n",
       "        text-align: right;\n",
       "    }\n",
       "</style>\n",
       "<table border=\"1\" class=\"dataframe\">\n",
       "  <thead>\n",
       "    <tr style=\"text-align: right;\">\n",
       "      <th></th>\n",
       "      <th>pred_clint_rf</th>\n",
       "    </tr>\n",
       "  </thead>\n",
       "  <tbody>\n",
       "    <tr>\n",
       "      <td>10190-99-5</td>\n",
       "      <td>8.406022</td>\n",
       "    </tr>\n",
       "    <tr>\n",
       "      <td>93-55-0</td>\n",
       "      <td>16.160451</td>\n",
       "    </tr>\n",
       "    <tr>\n",
       "      <td>78967-07-4</td>\n",
       "      <td>8.592281</td>\n",
       "    </tr>\n",
       "    <tr>\n",
       "      <td>32329-20-7</td>\n",
       "      <td>10.374990</td>\n",
       "    </tr>\n",
       "    <tr>\n",
       "      <td>123-96-6</td>\n",
       "      <td>12.022457</td>\n",
       "    </tr>\n",
       "  </tbody>\n",
       "</table>\n",
       "</div>"
      ],
      "text/plain": [
       "            pred_clint_rf\n",
       "10190-99-5       8.406022\n",
       "93-55-0         16.160451\n",
       "78967-07-4       8.592281\n",
       "32329-20-7      10.374990\n",
       "123-96-6        12.022457"
      ]
     },
     "execution_count": 19,
     "metadata": {},
     "output_type": "execute_result"
    }
   ],
   "source": [
    "predicted_clint_rf.head()"
   ]
  },
  {
   "cell_type": "code",
   "execution_count": 20,
   "metadata": {},
   "outputs": [],
   "source": [
    "check_df = pd.read_csv(reports_dir+'pradeep_FupClintPredictions_HTTK_chem_props.csv')"
   ]
  },
  {
   "cell_type": "code",
   "execution_count": 22,
   "metadata": {},
   "outputs": [
    {
     "data": {
      "text/plain": [
       "['100-01-6', '100-02-7', '100-10-7', '100-15-2', '100-19-6']"
      ]
     },
     "execution_count": 22,
     "metadata": {},
     "output_type": "execute_result"
    }
   ],
   "source": [
    "check_df.head().CASRN.tolist()"
   ]
  },
  {
   "cell_type": "code",
   "execution_count": 24,
   "metadata": {},
   "outputs": [
    {
     "data": {
      "text/html": [
       "<div>\n",
       "<style scoped>\n",
       "    .dataframe tbody tr th:only-of-type {\n",
       "        vertical-align: middle;\n",
       "    }\n",
       "\n",
       "    .dataframe tbody tr th {\n",
       "        vertical-align: top;\n",
       "    }\n",
       "\n",
       "    .dataframe thead th {\n",
       "        text-align: right;\n",
       "    }\n",
       "</style>\n",
       "<table border=\"1\" class=\"dataframe\">\n",
       "  <thead>\n",
       "    <tr style=\"text-align: right;\">\n",
       "      <th></th>\n",
       "      <th>CASRN</th>\n",
       "      <th>Fub (SVR Prediction)</th>\n",
       "      <th>Fub (RF Prediction)</th>\n",
       "      <th>Fub (Consensus Prediction)</th>\n",
       "      <th>Clint Prediction (Bin)</th>\n",
       "      <th>Clint Prediction</th>\n",
       "    </tr>\n",
       "  </thead>\n",
       "  <tbody>\n",
       "    <tr>\n",
       "      <td>0</td>\n",
       "      <td>100-01-6</td>\n",
       "      <td>0.177836</td>\n",
       "      <td>0.388741</td>\n",
       "      <td>0.283289</td>\n",
       "      <td>Medium</td>\n",
       "      <td>11.456444</td>\n",
       "    </tr>\n",
       "    <tr>\n",
       "      <td>1</td>\n",
       "      <td>100-02-7</td>\n",
       "      <td>0.095463</td>\n",
       "      <td>0.131728</td>\n",
       "      <td>0.113595</td>\n",
       "      <td>Medium</td>\n",
       "      <td>10.190809</td>\n",
       "    </tr>\n",
       "    <tr>\n",
       "      <td>2</td>\n",
       "      <td>100-10-7</td>\n",
       "      <td>0.610963</td>\n",
       "      <td>0.310349</td>\n",
       "      <td>0.460656</td>\n",
       "      <td>Medium</td>\n",
       "      <td>9.806200</td>\n",
       "    </tr>\n",
       "    <tr>\n",
       "      <td>3</td>\n",
       "      <td>100-15-2</td>\n",
       "      <td>0.174030</td>\n",
       "      <td>0.386404</td>\n",
       "      <td>0.280217</td>\n",
       "      <td>Medium</td>\n",
       "      <td>12.955616</td>\n",
       "    </tr>\n",
       "    <tr>\n",
       "      <td>4</td>\n",
       "      <td>100-19-6</td>\n",
       "      <td>0.329827</td>\n",
       "      <td>0.335527</td>\n",
       "      <td>0.332677</td>\n",
       "      <td>Medium</td>\n",
       "      <td>12.207164</td>\n",
       "    </tr>\n",
       "  </tbody>\n",
       "</table>\n",
       "</div>"
      ],
      "text/plain": [
       "      CASRN  Fub (SVR Prediction)  Fub (RF Prediction)  \\\n",
       "0  100-01-6              0.177836             0.388741   \n",
       "1  100-02-7              0.095463             0.131728   \n",
       "2  100-10-7              0.610963             0.310349   \n",
       "3  100-15-2              0.174030             0.386404   \n",
       "4  100-19-6              0.329827             0.335527   \n",
       "\n",
       "   Fub (Consensus Prediction) Clint Prediction (Bin)  Clint Prediction  \n",
       "0                    0.283289                 Medium         11.456444  \n",
       "1                    0.113595                 Medium         10.190809  \n",
       "2                    0.460656                 Medium          9.806200  \n",
       "3                    0.280217                 Medium         12.955616  \n",
       "4                    0.332677                 Medium         12.207164  "
      ]
     },
     "execution_count": 24,
     "metadata": {},
     "output_type": "execute_result"
    }
   ],
   "source": [
    "check_df.head()"
   ]
  },
  {
   "cell_type": "code",
   "execution_count": 23,
   "metadata": {},
   "outputs": [
    {
     "data": {
      "text/html": [
       "<div>\n",
       "<style scoped>\n",
       "    .dataframe tbody tr th:only-of-type {\n",
       "        vertical-align: middle;\n",
       "    }\n",
       "\n",
       "    .dataframe tbody tr th {\n",
       "        vertical-align: top;\n",
       "    }\n",
       "\n",
       "    .dataframe thead th {\n",
       "        text-align: right;\n",
       "    }\n",
       "</style>\n",
       "<table border=\"1\" class=\"dataframe\">\n",
       "  <thead>\n",
       "    <tr style=\"text-align: right;\">\n",
       "      <th></th>\n",
       "      <th>pred_clint_rf</th>\n",
       "    </tr>\n",
       "  </thead>\n",
       "  <tbody>\n",
       "    <tr>\n",
       "      <td>100-02-7</td>\n",
       "      <td>10.190809</td>\n",
       "    </tr>\n",
       "    <tr>\n",
       "      <td>100-19-6</td>\n",
       "      <td>12.207164</td>\n",
       "    </tr>\n",
       "    <tr>\n",
       "      <td>100-01-6</td>\n",
       "      <td>11.456444</td>\n",
       "    </tr>\n",
       "    <tr>\n",
       "      <td>100-15-2</td>\n",
       "      <td>12.955616</td>\n",
       "    </tr>\n",
       "    <tr>\n",
       "      <td>100-10-7</td>\n",
       "      <td>9.806200</td>\n",
       "    </tr>\n",
       "  </tbody>\n",
       "</table>\n",
       "</div>"
      ],
      "text/plain": [
       "          pred_clint_rf\n",
       "100-02-7      10.190809\n",
       "100-19-6      12.207164\n",
       "100-01-6      11.456444\n",
       "100-15-2      12.955616\n",
       "100-10-7       9.806200"
      ]
     },
     "execution_count": 23,
     "metadata": {},
     "output_type": "execute_result"
    }
   ],
   "source": [
    "predicted_clint_rf[predicted_clint_rf.index.isin(check_df.head().CASRN.tolist())]"
   ]
  },
  {
   "cell_type": "code",
   "execution_count": 25,
   "metadata": {},
   "outputs": [],
   "source": [
    "#checks out OK for Clint reg"
   ]
  }
 ],
 "metadata": {
  "kernelspec": {
   "display_name": "httk",
   "language": "python",
   "name": "httk"
  },
  "language_info": {
   "codemirror_mode": {
    "name": "ipython",
    "version": 3
   },
   "file_extension": ".py",
   "mimetype": "text/x-python",
   "name": "python",
   "nbconvert_exporter": "python",
   "pygments_lexer": "ipython3",
   "version": "3.7.8"
  }
 },
 "nbformat": 4,
 "nbformat_minor": 4
}
